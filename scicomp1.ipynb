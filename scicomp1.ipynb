{
  "nbformat": 4,
  "nbformat_minor": 0,
  "metadata": {
    "colab": {
      "provenance": []
    },
    "kernelspec": {
      "name": "python3",
      "display_name": "Python 3"
    },
    "language_info": {
      "name": "python"
    }
  },
  "cells": [
    {
      "cell_type": "code",
      "execution_count": null,
      "metadata": {
        "colab": {
          "base_uri": "https://localhost:8080/"
        },
        "id": "s8oHxZcW2UD_",
        "outputId": "f644a2b7-bb0a-4acc-b1b4-433579470bd1"
      },
      "outputs": [
        {
          "output_type": "stream",
          "name": "stdout",
          "text": [
            "sys.float_info(max=1.7976931348623157e+308, max_exp=1024, max_10_exp=308, min=2.2250738585072014e-308, min_exp=-1021, min_10_exp=-307, dig=15, mant_dig=53, epsilon=2.220446049250313e-16, radix=2, rounds=1)\n",
            "O menor número representável em ponto-flutuante de precisão dupla é 2.2250738585072014e-308\n",
            "O maior número representável em ponto-flutuante de precisão dupla é 1.7976931348623157e+308\n"
          ]
        }
      ],
      "source": [
        "import sys\n",
        "print(sys.float_info)\n",
        "print('O menor número representável em ponto-flutuante de precisão dupla é {}'.format(sys.float_info.min))\n",
        "print('O maior número representável em ponto-flutuante de precisão dupla é {}'.format(sys.float_info.max))"
      ]
    },
    {
      "cell_type": "code",
      "source": [
        "\"\"\"a hipotenusa de um triângulo retângulo cujos catetos são a = 1.5 * 10^200 e b = 3.5 * 10^201\"\"\"\n",
        "import math\n",
        "\n",
        "a = 1.5*10**200\n",
        "b = 3.5*10**201\n",
        "\n",
        "\n",
        "h = a*(math.sqrt(1+((b/a)*(b/a))))\n",
        "print(h)\n",
        "print(math.hypot(a,b))"
      ],
      "metadata": {
        "colab": {
          "base_uri": "https://localhost:8080/"
        },
        "id": "8cJgH9Gb2hi3",
        "outputId": "1f77fa0a-52ca-4ecc-8e81-d0e97c89742e"
      },
      "execution_count": null,
      "outputs": [
        {
          "output_type": "stream",
          "name": "stdout",
          "text": [
            "3.503212811120672e+201\n",
            "3.503212811120672e+201\n"
          ]
        }
      ]
    },
    {
      "cell_type": "code",
      "source": [
        "\"\"\"digitos de pi em extenso (a sete casas decimais)\"\"\"\n",
        "numeros = [\"zero\", \"um\", \"dois\", \"três\", \"quatro\", \"cinco\", \"seis\", \"sete\", \"oito\", \"nove\"]\n",
        "pi = f\"{math.pi:.7f}\".replace(\".\", \"\")\n",
        "extenso = [\"ponto\" if n == \".\" else numeros[int(n)] for n in f\"{math.pi:.7f}\"]\n",
        "print(\" \".join(extenso))"
      ],
      "metadata": {
        "colab": {
          "base_uri": "https://localhost:8080/"
        },
        "id": "212qoqB420nF",
        "outputId": "c100e150-1f70-4efe-835e-5fcb041f6579"
      },
      "execution_count": null,
      "outputs": [
        {
          "output_type": "stream",
          "name": "stdout",
          "text": [
            "três ponto um quatro um cinco nove dois sete\n"
          ]
        }
      ]
    },
    {
      "cell_type": "code",
      "source": [
        "import math\n",
        "from math import factorial\n",
        "n = 8\n",
        "\n",
        "\"\"\"triângulo de pascal\"\"\"\n",
        "\n",
        "for i in range(n):\n",
        "    for j in range(n-i+1):\n",
        "        print(end=\" \"*2)\n",
        "\n",
        "    for j in range(i+1):\n",
        "        print(factorial(i)//(factorial(j)*factorial(i-j)), end=\" \"*3)\n",
        "\n",
        "    print()"
      ],
      "metadata": {
        "id": "SCbkhL9k30Ba",
        "colab": {
          "base_uri": "https://localhost:8080/"
        },
        "outputId": "4262fdcd-c055-4f78-c9c9-897ab2cfb710"
      },
      "execution_count": 20,
      "outputs": [
        {
          "output_type": "stream",
          "name": "stdout",
          "text": [
            "                  1   \n",
            "                1   1   \n",
            "              1   2   1   \n",
            "            1   3   3   1   \n",
            "          1   4   6   4   1   \n",
            "        1   5   10   10   5   1   \n",
            "      1   6   15   20   15   6   1   \n",
            "    1   7   21   35   35   21   7   1   \n"
          ]
        }
      ]
    },
    {
      "cell_type": "code",
      "source": [
        "def fibonacci(n):\n",
        "    if n<1:\n",
        "        print(\"inválido\")\n",
        "    else:\n",
        "\n",
        "        seq = [0, 1]\n",
        "        a = 0\n",
        "        b = 1 #o início da sequência\n",
        "        c = 1 #conta o número de elementos\n",
        "\n",
        "        while c<=n:\n",
        "            prox = a + b\n",
        "            a, b = b, prox\n",
        "            c+=1\n",
        "\n",
        "            seq.append(prox)\n",
        "\n",
        "        print(seq)\n",
        "\n",
        "fibonacci(8)"
      ],
      "metadata": {
        "id": "IHQoB5k-4Kzl",
        "colab": {
          "base_uri": "https://localhost:8080/"
        },
        "outputId": "be108bff-0b53-4a19-cb9d-13e600c26da2"
      },
      "execution_count": 21,
      "outputs": [
        {
          "output_type": "stream",
          "name": "stdout",
          "text": [
            "[0, 1, 1, 2, 3, 5, 8, 13, 21, 34]\n"
          ]
        }
      ]
    },
    {
      "cell_type": "code",
      "source": [
        "import math\n",
        "\n",
        "def fibonacci(n):\n",
        "    if n < 1:\n",
        "        print(\"inválido\")\n",
        "        return []\n",
        "\n",
        "    seq = [0, 1]\n",
        "    a, b = 0, 1\n",
        "\n",
        "    while len(seq) < n:\n",
        "        a, b = b, a + b\n",
        "        seq.append(b)\n",
        "\n",
        "    return seq\n",
        "\n",
        "def digit(num):\n",
        "    while num >= 10:\n",
        "        num //= 10\n",
        "    return num\n",
        "\n",
        "def benford_law_test(n):\n",
        "    fib_seq = fibonacci(n)\n",
        "    digits = [digit(num) for num in fib_seq if num > 0]\n",
        "\n",
        "    digit_counts = {d: 0 for d in range(1, 10)}\n",
        "    for dg in digits:\n",
        "        digit_counts[dg] += 1\n",
        "\n",
        "    total_numbers = sum(digit_counts.values())\n",
        "    benford_probabilities = {d: math.log10((d+1)/d) for d in range(1, 10)}\n",
        "    observed_frequencies = {d: digit_counts[d] / total_numbers for d in range(1, 10)}\n",
        "\n",
        "    print(\" digit | fibonacci | P(d)\")\n",
        "    for d in range(1, 10):\n",
        "        print(f\"   {d}   |   {observed_frequencies[d]:.4f}  |   {benford_probabilities[d]:.4f}\")\n",
        "\n",
        "print(fibonacci(8))\n",
        "benford_law_test(100)"
      ],
      "metadata": {
        "colab": {
          "base_uri": "https://localhost:8080/"
        },
        "id": "4LhvtAIn75KU",
        "outputId": "8be8fb35-b5ff-430b-e276-041020a6a4d8"
      },
      "execution_count": 22,
      "outputs": [
        {
          "output_type": "stream",
          "name": "stdout",
          "text": [
            "[0, 1, 1, 2, 3, 5, 8, 13]\n",
            " digit | fibonacci | P(d)\n",
            "   1   |   0.3030  |   0.3010\n",
            "   2   |   0.1818  |   0.1761\n",
            "   3   |   0.1212  |   0.1249\n",
            "   4   |   0.0909  |   0.0969\n",
            "   5   |   0.0808  |   0.0792\n",
            "   6   |   0.0606  |   0.0669\n",
            "   7   |   0.0505  |   0.0580\n",
            "   8   |   0.0707  |   0.0512\n",
            "   9   |   0.0404  |   0.0458\n"
          ]
        }
      ]
    },
    {
      "cell_type": "code",
      "source": [
        "\"\"\"constante de gauss como 1/agm(1, sqrt(2))\"\"\"\n",
        "\n",
        "import math\n",
        "tol = 1.e-10\n",
        "\n",
        "an = 1\n",
        "bn = math.sqrt(2)\n",
        "\n",
        "while abs(an - bn) > tol:\n",
        "    an, bn = (an+bn)/2, math.sqrt(an*bn)\n",
        "\n",
        "print(\"convergência =\", an, bn)\n",
        "print(\"constante de Gauss =\", 1/an)"
      ],
      "metadata": {
        "colab": {
          "base_uri": "https://localhost:8080/"
        },
        "id": "N1KCB26d75-u",
        "outputId": "685e6260-a951-4b36-af33-cab8dcf8548a"
      },
      "execution_count": 23,
      "outputs": [
        {
          "output_type": "stream",
          "name": "stdout",
          "text": [
            "convergência = 1.1981402347355923 1.1981402347355923\n",
            "constante de Gauss = 0.8346268416740731\n"
          ]
        }
      ]
    }
  ]
}