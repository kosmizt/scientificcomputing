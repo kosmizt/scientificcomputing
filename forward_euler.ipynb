{
  "cells": [
    {
      "cell_type": "markdown",
      "id": "0d0008c9-cc5a-4c73-ac17-986bfba3668c",
      "metadata": {
        "id": "0d0008c9-cc5a-4c73-ac17-986bfba3668c"
      },
      "source": [
        "$\\frac{du}{dt} = \\frac{u-t}{u+t}, u(0) = 1$\n",
        "\n",
        "exact solution: $\\frac{1}{2}log(t^{2}+u^{2}) + tan^{-1}(\\frac{y}{t}) = 1.5708$"
      ]
    },
    {
      "cell_type": "code",
      "execution_count": 1,
      "id": "37bb5ce2-da7f-44c5-a2eb-79ace02a983e",
      "metadata": {
        "id": "37bb5ce2-da7f-44c5-a2eb-79ace02a983e"
      },
      "outputs": [],
      "source": [
        "import numpy as np\n",
        "import matplotlib.pyplot as plt"
      ]
    },
    {
      "cell_type": "code",
      "execution_count": 2,
      "id": "16acfb0a-0e0b-4383-83af-9c14786e60ad",
      "metadata": {
        "id": "16acfb0a-0e0b-4383-83af-9c14786e60ad"
      },
      "outputs": [],
      "source": [
        "def f(t,u):\n",
        "    return (u-t)/(u+t)"
      ]
    },
    {
      "cell_type": "code",
      "execution_count": 3,
      "id": "09dd49d0-5856-49ab-8644-55e7007659ea",
      "metadata": {
        "id": "09dd49d0-5856-49ab-8644-55e7007659ea"
      },
      "outputs": [],
      "source": [
        "def fix(u0, p, n=20, h=0.1):\n",
        "    u_n = [u0]\n",
        "    t_n = 0\n",
        "    for i in range(1, p):\n",
        "        u_next = u_n[-1] + h * f(t_n, u_n[-1])\n",
        "        u_n.append(u_next)\n",
        "        t_n += h\n",
        "    return u_n\n",
        "\n",
        "sol = fix(1, 70)\n",
        "pts = np.linspace(0, 7, 70)"
      ]
    },
    {
      "cell_type": "code",
      "execution_count": 5,
      "id": "4a747732-2880-46dd-bdb5-1acaaf9db840",
      "metadata": {
        "colab": {
          "base_uri": "https://localhost:8080/",
          "height": 449
        },
        "id": "4a747732-2880-46dd-bdb5-1acaaf9db840",
        "outputId": "79bb10e9-9a18-4c85-defb-be5041336eca"
      },
      "outputs": [
        {
          "output_type": "display_data",
          "data": {
            "text/plain": [
              "<Figure size 640x480 with 1 Axes>"
            ],
            "image/png": "[encoded data removed]"
          },
          "metadata": {}
        }
      ],
      "source": [
        "plt.plot(pts, sol, color=\"tomato\")\n",
        "plt.axhline(y=0, color='gray', linewidth=0.8)\n",
        "plt.axvline(x=0, color='gray', linewidth=0.8)\n",
        "plt.axhline(y=1.5708, color='hotpink', linewidth=0.8)\n",
        "plt.xlabel('t')\n",
        "plt.ylabel('u(t)')\n",
        "plt.show()"
      ]
    },
    {
      "cell_type": "code",
      "execution_count": 6,
      "id": "03ab732a-a48f-44ed-beba-8f571615302c",
      "metadata": {
        "colab": {
          "base_uri": "https://localhost:8080/"
        },
        "id": "03ab732a-a48f-44ed-beba-8f571615302c",
        "outputId": "edee72c3-b55c-4204-b90d-8737693c8d42"
      },
      "outputs": [
        {
          "output_type": "stream",
          "name": "stdout",
          "text": [
            "n = 0, u(0.0) = 1.000000\n",
            "n = 1, u(0.1) = 1.100000\n",
            "n = 2, u(0.2) = 1.183333\n",
            "n = 3, u(0.30000000000000004) = 1.254418\n",
            "n = 4, u(0.4) = 1.315818\n",
            "n = 5, u(0.5) = 1.369193\n",
            "n = 6, u(0.6000000000000001) = 1.415694\n",
            "n = 7, u(0.7000000000000001) = 1.456161\n",
            "n = 8, u(0.8) = 1.491231\n",
            "n = 9, u(0.9) = 1.521399\n",
            "n = 10, u(1.0) = 1.547062\n",
            "n = 11, u(1.1) = 1.568540\n",
            "n = 12, u(1.2000000000000002) = 1.586098\n",
            "n = 13, u(1.3) = 1.599956\n",
            "n = 14, u(1.4000000000000001) = 1.610300\n",
            "n = 15, u(1.5) = 1.617286\n",
            "n = 16, u(1.6) = 1.621048\n",
            "n = 17, u(1.7000000000000002) = 1.621702\n",
            "n = 18, u(1.8) = 1.619345\n",
            "n = 19, u(1.9000000000000001) = 1.614061\n",
            "n = 20, u(2.0) = 1.605924\n",
            "n = 21, u(2.1) = 1.594996\n",
            "n = 22, u(2.2) = 1.581329\n",
            "n = 23, u(2.3000000000000003) = 1.564967\n",
            "n = 24, u(2.4000000000000004) = 1.545949\n",
            "n = 25, u(2.5) = 1.524306\n",
            "n = 26, u(2.6) = 1.500061\n",
            "n = 27, u(2.7) = 1.473233\n",
            "n = 28, u(2.8000000000000003) = 1.443837\n",
            "n = 29, u(2.9000000000000004) = 1.411881\n",
            "n = 30, u(3.0) = 1.377369\n",
            "n = 31, u(3.1) = 1.340301\n",
            "n = 32, u(3.2) = 1.300670\n",
            "n = 33, u(3.3000000000000003) = 1.258469\n",
            "n = 34, u(3.4000000000000004) = 1.213684\n",
            "n = 35, u(3.5) = 1.166296\n",
            "n = 36, u(3.6) = 1.116284\n",
            "n = 37, u(3.7) = 1.063622\n",
            "n = 38, u(3.8000000000000003) = 1.008278\n",
            "n = 39, u(3.9000000000000004) = 0.950217\n",
            "n = 40, u(4.0) = 0.889399\n",
            "n = 41, u(4.1000000000000005) = 0.825780\n",
            "n = 42, u(4.2) = 0.759309\n",
            "n = 43, u(4.3) = 0.689931\n",
            "n = 44, u(4.4) = 0.617584\n",
            "n = 45, u(4.5) = 0.542200\n",
            "n = 46, u(4.6000000000000005) = 0.463707\n",
            "n = 47, u(4.7) = 0.382022\n",
            "n = 48, u(4.800000000000001) = 0.297056\n",
            "n = 49, u(4.9) = 0.208712\n",
            "n = 50, u(5.0) = 0.116883\n",
            "n = 51, u(5.1000000000000005) = 0.021451\n",
            "n = 52, u(5.2) = -0.077711\n",
            "n = 53, u(5.300000000000001) = -0.180745\n",
            "n = 54, u(5.4) = -0.287807\n",
            "n = 55, u(5.5) = -0.399066\n",
            "n = 56, u(5.6000000000000005) = -0.514713\n",
            "n = 57, u(5.7) = -0.634956\n",
            "n = 58, u(5.800000000000001) = -0.760028\n",
            "n = 59, u(5.9) = -0.890188\n",
            "n = 60, u(6.0) = -1.025726\n",
            "n = 61, u(6.1000000000000005) = -1.166967\n",
            "n = 62, u(6.2) = -1.314280\n",
            "n = 63, u(6.300000000000001) = -1.468081\n",
            "n = 64, u(6.4) = -1.628847\n",
            "n = 65, u(6.5) = -1.797125\n",
            "n = 66, u(6.6000000000000005) = -1.973552\n",
            "n = 67, u(6.7) = -2.158868\n",
            "n = 68, u(6.800000000000001) = -2.353949\n",
            "n = 69, u(6.9) = -2.559838\n"
          ]
        }
      ],
      "source": [
        "for step, value in enumerate(sol):\n",
        "    print(f\"n = {step}, u({step * 0.1}) = {value:.6f}\")"
      ]
    },
    {
      "cell_type": "markdown",
      "id": "7becc582-22f7-4c64-a2d9-6dd2b98a5244",
      "metadata": {
        "id": "7becc582-22f7-4c64-a2d9-6dd2b98a5244"
      },
      "source": [
        "the method approaches the numerical solution in the initial interations, more precisely returns values greater than the numerical solution between iterations $n = 12$ and $n = 23$."
      ]
    }
  ],
  "metadata": {
    "kernelspec": {
      "display_name": "Python 3 (ipykernel)",
      "language": "python",
      "name": "python3"
    },
    "language_info": {
      "codemirror_mode": {
        "name": "ipython",
        "version": 3
      },
      "file_extension": ".py",
      "mimetype": "text/x-python",
      "name": "python",
      "nbconvert_exporter": "python",
      "pygments_lexer": "ipython3",
      "version": "3.12.3"
    },
    "colab": {
      "provenance": []
    }
  },
  "nbformat": 4,
  "nbformat_minor": 5
}